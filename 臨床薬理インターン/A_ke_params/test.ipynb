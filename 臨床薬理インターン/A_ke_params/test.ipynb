{
 "cells": [
  {
   "cell_type": "code",
   "execution_count": 7,
   "metadata": {},
   "outputs": [],
   "source": [
    "import numpy as np\n",
    "import pandas as pd\n",
    "\n",
    "P1a_ke = pd.read_csv('ke_Phase1a.csv', index_col=0)\n",
    "P1b_ke = pd.read_csv('ke_Phase1b.csv', index_col=0)\n",
    "\n",
    "res = pd.Series([0])\n",
    "for i in range(len(P1a_ke)):\n",
    "    res = pd.concat([res, P1a_ke.iloc[i] - np.mean(P1a_ke.iloc[i])])\n",
    "for i in range(len(P1b_ke)):\n",
    "    res = pd.concat([res, P1b_ke.iloc[i] - np.mean(P1b_ke.iloc[i])])\n",
    "res = res[1:]\n",
    "\n",
    "std_eta1_init = np.std(res, ddof=1)\n",
    "\n",
    "mean = []\n",
    "for i in range(len(P1a_ke.iloc[0])):\n",
    "    mean.append(np.mean(P1a_ke.iloc[:, i]))\n",
    "for i in range(len(P1b_ke.iloc[0])):\n",
    "    mean.append(np.mean(P1b_ke.iloc[:, i]))\n",
    "\n",
    "\n"
   ]
  },
  {
   "cell_type": "code",
   "execution_count": 10,
   "metadata": {},
   "outputs": [
    {
     "data": {
      "text/plain": [
       "0.1      0.044710\n",
       "1.0      0.032158\n",
       "10.0     0.022147\n",
       "20.0     0.025902\n",
       "40.0     0.016840\n",
       "80.0     0.027580\n",
       "160.0    0.056128\n",
       "320.0    0.024181\n",
       "Name: 2, dtype: float64"
      ]
     },
     "execution_count": 10,
     "metadata": {},
     "output_type": "execute_result"
    }
   ],
   "source": [
    "P1a_ke.iloc[i]"
   ]
  },
  {
   "cell_type": "code",
   "execution_count": 2,
   "metadata": {},
   "outputs": [
    {
     "data": {
      "text/html": [
       "<div>\n",
       "<style scoped>\n",
       "    .dataframe tbody tr th:only-of-type {\n",
       "        vertical-align: middle;\n",
       "    }\n",
       "\n",
       "    .dataframe tbody tr th {\n",
       "        vertical-align: top;\n",
       "    }\n",
       "\n",
       "    .dataframe thead th {\n",
       "        text-align: right;\n",
       "    }\n",
       "</style>\n",
       "<table border=\"1\" class=\"dataframe\">\n",
       "  <thead>\n",
       "    <tr style=\"text-align: right;\">\n",
       "      <th></th>\n",
       "      <th>0.1</th>\n",
       "      <th>1.0</th>\n",
       "      <th>10.0</th>\n",
       "      <th>20.0</th>\n",
       "      <th>40.0</th>\n",
       "      <th>80.0</th>\n",
       "      <th>160.0</th>\n",
       "      <th>320.0</th>\n",
       "    </tr>\n",
       "    <tr>\n",
       "      <th>ID</th>\n",
       "      <th></th>\n",
       "      <th></th>\n",
       "      <th></th>\n",
       "      <th></th>\n",
       "      <th></th>\n",
       "      <th></th>\n",
       "      <th></th>\n",
       "      <th></th>\n",
       "    </tr>\n",
       "  </thead>\n",
       "  <tbody>\n",
       "    <tr>\n",
       "      <th>1</th>\n",
       "      <td>0.037147</td>\n",
       "      <td>0.034872</td>\n",
       "      <td>0.033862</td>\n",
       "      <td>0.020041</td>\n",
       "      <td>0.027398</td>\n",
       "      <td>0.022608</td>\n",
       "      <td>0.019928</td>\n",
       "      <td>0.031337</td>\n",
       "    </tr>\n",
       "    <tr>\n",
       "      <th>2</th>\n",
       "      <td>0.044710</td>\n",
       "      <td>0.032158</td>\n",
       "      <td>0.022147</td>\n",
       "      <td>0.025902</td>\n",
       "      <td>0.016840</td>\n",
       "      <td>0.027580</td>\n",
       "      <td>0.056128</td>\n",
       "      <td>0.024181</td>\n",
       "    </tr>\n",
       "    <tr>\n",
       "      <th>3</th>\n",
       "      <td>0.048994</td>\n",
       "      <td>0.024516</td>\n",
       "      <td>0.028087</td>\n",
       "      <td>0.043757</td>\n",
       "      <td>0.025649</td>\n",
       "      <td>0.029072</td>\n",
       "      <td>0.032193</td>\n",
       "      <td>0.014215</td>\n",
       "    </tr>\n",
       "    <tr>\n",
       "      <th>4</th>\n",
       "      <td>0.023397</td>\n",
       "      <td>0.029331</td>\n",
       "      <td>0.026632</td>\n",
       "      <td>0.034885</td>\n",
       "      <td>0.024659</td>\n",
       "      <td>0.029911</td>\n",
       "      <td>0.024732</td>\n",
       "      <td>0.039393</td>\n",
       "    </tr>\n",
       "    <tr>\n",
       "      <th>5</th>\n",
       "      <td>0.027756</td>\n",
       "      <td>0.014310</td>\n",
       "      <td>0.040675</td>\n",
       "      <td>0.022350</td>\n",
       "      <td>0.029107</td>\n",
       "      <td>0.033763</td>\n",
       "      <td>0.020797</td>\n",
       "      <td>0.021712</td>\n",
       "    </tr>\n",
       "    <tr>\n",
       "      <th>6</th>\n",
       "      <td>0.056221</td>\n",
       "      <td>0.033293</td>\n",
       "      <td>0.051049</td>\n",
       "      <td>0.037705</td>\n",
       "      <td>0.031106</td>\n",
       "      <td>0.016153</td>\n",
       "      <td>0.018992</td>\n",
       "      <td>0.028590</td>\n",
       "    </tr>\n",
       "  </tbody>\n",
       "</table>\n",
       "</div>"
      ],
      "text/plain": [
       "         0.1       1.0      10.0      20.0      40.0      80.0     160.0  \\\n",
       "ID                                                                         \n",
       "1   0.037147  0.034872  0.033862  0.020041  0.027398  0.022608  0.019928   \n",
       "2   0.044710  0.032158  0.022147  0.025902  0.016840  0.027580  0.056128   \n",
       "3   0.048994  0.024516  0.028087  0.043757  0.025649  0.029072  0.032193   \n",
       "4   0.023397  0.029331  0.026632  0.034885  0.024659  0.029911  0.024732   \n",
       "5   0.027756  0.014310  0.040675  0.022350  0.029107  0.033763  0.020797   \n",
       "6   0.056221  0.033293  0.051049  0.037705  0.031106  0.016153  0.018992   \n",
       "\n",
       "       320.0  \n",
       "ID            \n",
       "1   0.031337  \n",
       "2   0.024181  \n",
       "3   0.014215  \n",
       "4   0.039393  \n",
       "5   0.021712  \n",
       "6   0.028590  "
      ]
     },
     "execution_count": 2,
     "metadata": {},
     "output_type": "execute_result"
    }
   ],
   "source": [
    "P1a_ke"
   ]
  },
  {
   "cell_type": "code",
   "execution_count": 3,
   "metadata": {},
   "outputs": [
    {
     "data": {
      "text/plain": [
       "ID\n",
       "1    0.034872\n",
       "2    0.032158\n",
       "3    0.024516\n",
       "4    0.029331\n",
       "5    0.014310\n",
       "6    0.033293\n",
       "Name: 1.0, dtype: float64"
      ]
     },
     "execution_count": 3,
     "metadata": {},
     "output_type": "execute_result"
    }
   ],
   "source": [
    "P1a_ke.iloc[:, i]"
   ]
  }
 ],
 "metadata": {
  "kernelspec": {
   "display_name": ".venv",
   "language": "python",
   "name": "python3"
  },
  "language_info": {
   "codemirror_mode": {
    "name": "ipython",
    "version": 3
   },
   "file_extension": ".py",
   "mimetype": "text/x-python",
   "name": "python",
   "nbconvert_exporter": "python",
   "pygments_lexer": "ipython3",
   "version": "3.11.4"
  }
 },
 "nbformat": 4,
 "nbformat_minor": 2
}
